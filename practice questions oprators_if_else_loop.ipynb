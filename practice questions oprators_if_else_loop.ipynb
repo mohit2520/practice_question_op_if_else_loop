{
 "cells": [
  {
   "cell_type": "code",
   "execution_count": 4,
   "id": "67738a35",
   "metadata": {},
   "outputs": [
    {
     "name": "stdout",
     "output_type": "stream",
     "text": [
      "Enter 1st no:5\n",
      "Enter 2st no:6\n",
      "the sum of 5 and 6 is  11\n"
     ]
    }
   ],
   "source": [
    "#1.Python program to add two numbers\n",
    "x=int(input(\"Enter 1st no:\"))\n",
    "y=int(input(\"Enter 2st no:\"))\n",
    "print(\"the sum of\",x,\"and\",y,\"is \" ,x+y )\n"
   ]
  },
  {
   "cell_type": "code",
   "execution_count": 5,
   "id": "11c77cf0",
   "metadata": {},
   "outputs": [
    {
     "name": "stdout",
     "output_type": "stream",
     "text": [
      "Enter 1st no:6\n",
      "Enter 2st no:5\n",
      "the sum of 6 and 5 is  11\n",
      "the sub of 6 and 5 is  1\n",
      "the mult of 6 and 5 is  30\n",
      "the div of 6 and 5 is  1.2\n",
      "the floor div of 6 and 5 is  1\n",
      "the modulus of 6 and 5 is  1\n",
      "the exp of 6 and 5 is  7776\n"
     ]
    }
   ],
   "source": [
    "#2.Python Program to Perform all arithmetic operations\n",
    "x=int(input(\"Enter 1st no:\"))\n",
    "y=int(input(\"Enter 2st no:\"))\n",
    "print(\"the sum of\",x,\"and\",y,\"is \" ,x+y )\n",
    "print(\"the sub of\",x,\"and\",y,\"is \" ,x-y )\n",
    "print(\"the mult of\",x,\"and\",y,\"is \" ,x*y )\n",
    "print(\"the div of\",x,\"and\",y,\"is \" ,x/y )\n",
    "print(\"the floor div of\",x,\"and\",y,\"is \" ,x//y )\n",
    "print(\"the modulus of\",x,\"and\",y,\"is \" ,x%y )\n",
    "print(\"the exp of\",x,\"and\",y,\"is \" ,x**y )"
   ]
  },
  {
   "cell_type": "code",
   "execution_count": 9,
   "id": "a6880422",
   "metadata": {},
   "outputs": [
    {
     "name": "stdout",
     "output_type": "stream",
     "text": [
      "enter the last no10\n",
      "55\n"
     ]
    }
   ],
   "source": [
    "#3.sum of numbers\n",
    "i=1\n",
    "L=int(input(\"enter the last no\"))\n",
    "Sum=0\n",
    "while(i<=L) :\n",
    "            Sum=Sum+i\n",
    "            i=i+1\n",
    "print(Sum)"
   ]
  },
  {
   "cell_type": "code",
   "execution_count": 1,
   "id": "d0992a21",
   "metadata": {},
   "outputs": [
    {
     "name": "stdout",
     "output_type": "stream",
     "text": [
      "enter the radius of the circle :4\n",
      "Area of the circle is  50.24\n"
     ]
    }
   ],
   "source": [
    "#4.Python Program for Program to find area of a circle (pi*r*r)\n",
    "pi=3.14\n",
    "r=float(input(\"enter the radius of the circle :\"))\n",
    "Area=(pi*(r**2))\n",
    "print(\"Area of the circle is \",Area)\n"
   ]
  },
  {
   "cell_type": "code",
   "execution_count": 5,
   "id": "8bba1552",
   "metadata": {},
   "outputs": [
    {
     "name": "stdout",
     "output_type": "stream",
     "text": [
      "enter side of a square:3\n",
      "Perimeter of the square is  12.0\n",
      "Area of the square is  9.0\n",
      "enter the length of the rectangle :2\n",
      "enter the width of the rectangle :4\n",
      "Perimeter of the rectangle is  12.0\n",
      "Area of the rectangle is  8.0\n"
     ]
    }
   ],
   "source": [
    "#5.Python Program to find Area and Perimeter of Square and Rectangle\n",
    "\n",
    "side=float(input(\"enter side of a square:\"))\n",
    "P_s=4*side\n",
    "A_s=side**2\n",
    "print(\"Perimeter of the square is \",P_s)\n",
    "print(\"Area of the square is \",A_s)\n",
    "length=float(input(\"enter the length of the rectangle :\"))\n",
    "width=float(input(\"enter the width of the rectangle :\"))\n",
    "P_r=(2*(length+width))\n",
    "A_r=length*width\n",
    "print(\"Perimeter of the rectangle is \",P_r)\n",
    "print(\"Area of the rectangle is \",A_r)"
   ]
  },
  {
   "cell_type": "code",
   "execution_count": 6,
   "id": "35be323c",
   "metadata": {},
   "outputs": [
    {
     "name": "stdout",
     "output_type": "stream",
     "text": [
      "Enter the principal amount :100000\n",
      "Enter the time :5.5\n",
      "Enter the rate of interst :10\n",
      "The simple interst is  55000.0\n"
     ]
    }
   ],
   "source": [
    "#6.Python Program to find simple interest\n",
    "P=float(input(\"Enter the principal amount :\"))\n",
    "T=float(input(\"Enter the time :\"))\n",
    "R=float(input(\"Enter the rate of interst :\"))\n",
    "SI=((P*T*R)/100)\n",
    "print(\"The simple interst is \",SI)\n"
   ]
  },
  {
   "cell_type": "code",
   "execution_count": 8,
   "id": "43de5605",
   "metadata": {},
   "outputs": [
    {
     "name": "stdout",
     "output_type": "stream",
     "text": [
      "Enter the principal amount :10000\n",
      "Enter the time :7.5\n",
      "Enter the rate of interst :3.875\n",
      "Enter the number of times interest is compounded per time period :12\n",
      "The Compound interst is  866809999075349.6\n"
     ]
    }
   ],
   "source": [
    "#7.Python Program to Find Compound Interest\n",
    "P=float(input(\"Enter the principal amount :\"))\n",
    "T=float(input(\"Enter the time :\"))\n",
    "R=float(input(\"Enter the rate of interst :\"))\n",
    "N=float(input(\"Enter the number of times interest is compounded per time period :\"))\n",
    "CI= (P*((1+(R/N))**(N*T)))\n",
    "print(\"The Compound interst is \",CI)"
   ]
  },
  {
   "cell_type": "code",
   "execution_count": 9,
   "id": "da14b3ef",
   "metadata": {},
   "outputs": [
    {
     "name": "stdout",
     "output_type": "stream",
     "text": [
      "Enter The temp. in Fahrenheit\n",
      "100\n",
      "Temperature in celsius : 37.77777777777778\n"
     ]
    }
   ],
   "source": [
    "#8.Python Program to Convert fahrenheit to celsius Temperature\n",
    "print(\"Enter The temp. in Fahrenheit\")\n",
    "x=float(input())\n",
    "y=((x-32)*(5/9))\n",
    "print(\"Temperature in celsius :\",y)\n"
   ]
  },
  {
   "cell_type": "code",
   "execution_count": 10,
   "id": "014bd0f0",
   "metadata": {},
   "outputs": [
    {
     "name": "stdout",
     "output_type": "stream",
     "text": [
      "Enter The temp. in celsius : \n",
      "100\n",
      "Temperature in Fahrenheit : 212.0\n"
     ]
    }
   ],
   "source": [
    "#9.Python Program to Convert celsius to  fahrenheit Temperature\n",
    "print(\"Enter The temp. in celsius : \")\n",
    "x=float(input())\n",
    "y=((x * (9/5)) + 32)\n",
    "print(\"Temperature in Fahrenheit :\",y)\n"
   ]
  },
  {
   "cell_type": "code",
   "execution_count": 12,
   "id": "5326abd8",
   "metadata": {},
   "outputs": [
    {
     "name": "stdout",
     "output_type": "stream",
     "text": [
      "enter 1st no :6656\n",
      "enter 2nd no :54444445\n",
      "54444445.0 is the greater than   6656.0\n"
     ]
    }
   ],
   "source": [
    "#10.Maximum of two numbers in Python\n",
    "n1=float(input(\"enter 1st no :\"))\n",
    "n2=float(input(\"enter 2nd no :\"))\n",
    "if(n1>n2) :\n",
    "    print(n1,\"is the greater than  \",n2)\n",
    "else :\n",
    "    print(n2,\"is the greater than  \",n1)"
   ]
  },
  {
   "cell_type": "code",
   "execution_count": 18,
   "id": "636e5905",
   "metadata": {},
   "outputs": [
    {
     "name": "stdout",
     "output_type": "stream",
     "text": [
      "Enter the last no of the fibonacci :4\n",
      "THE FIBONACCI ::\n",
      "0\n",
      "1\n",
      "1\n",
      "2\n",
      "3\n"
     ]
    }
   ],
   "source": [
    "#11.Fibonacci Series \n",
    "n1=0\n",
    "n2=1\n",
    "Ln=int(input(\"Enter the last no of the fibonacci :\"))\n",
    "print(\"THE FIBONACCI ::\")\n",
    "for i in range(n1,Ln+1) :\n",
    "    i=n1+n2\n",
    "    \n",
    "    print(n1)\n",
    "    n1=n2\n",
    "    n2=i\n",
    "\n"
   ]
  },
  {
   "cell_type": "code",
   "execution_count": 3,
   "id": "6ae27f3d",
   "metadata": {},
   "outputs": [
    {
     "name": "stdout",
     "output_type": "stream",
     "text": [
      "4 9 16 25 49 "
     ]
    }
   ],
   "source": [
    "#12.W.A.P in python to squr of a list .\n",
    "x=[2,3,4,5,7,]\n",
    "for i in range(len(x)):\n",
    "    x[i]=x[i]**2\n",
    "    print(x[i],end=\" \")"
   ]
  },
  {
   "cell_type": "code",
   "execution_count": 29,
   "id": "fbcb5c57",
   "metadata": {},
   "outputs": [
    {
     "name": "stdout",
     "output_type": "stream",
     "text": [
      "Enter number of students data you want :3\n",
      "enter the student name : hiu\n",
      "enter the roll number :6\n",
      "enter the class :2\n",
      "****************************************************************************\n",
      "Student name : hiu\n",
      "Roll number :  6\n",
      "Class : 2\n",
      "****************************************************************************\n",
      "enter the marks of maths4\n",
      "enter the marks of physics5\n",
      "enter the marks of chemistry45\n",
      "enter the marks of Cse6\n",
      "enter the marks of english66\n",
      "****************************************************************************\n",
      "dict_items([('maths', 4), ('physics', 5), ('chemistry', 45), ('Cse', 6), ('english', 66)])\n",
      "Marks of maths is 4\n",
      "Marks of physics is 5\n",
      "Marks of chemistry is 45\n",
      "Marks of Cse is 6\n",
      "Marks of english is 66\n",
      "****************************************************************************\n",
      "the total marks of the student : 126\n",
      "the percentage is  25\n",
      ".................FAIL....................\n",
      "enter the student name : jhgh\n",
      "enter the roll number :5\n",
      "enter the class :5\n",
      "****************************************************************************\n",
      "Student name : jhgh\n",
      "Roll number :  5\n",
      "Class : 5\n",
      "****************************************************************************\n",
      "enter the marks of maths656\n",
      "enter the marks of physics655\n",
      "enter the marks of chemistry6\n",
      "enter the marks of Cse56\n",
      "enter the marks of english55\n",
      "****************************************************************************\n",
      "dict_items([('maths', 656), ('physics', 655), ('chemistry', 6), ('Cse', 56), ('english', 55)])\n",
      "Marks of maths is 656\n",
      "Marks of physics is 655\n",
      "Marks of chemistry is 6\n",
      "Marks of Cse is 56\n",
      "Marks of english is 55\n",
      "****************************************************************************\n",
      "the total marks of the student : 1428\n",
      "the percentage is  285\n",
      "...................A Gread.................\n",
      "enter the student name : ds\n",
      "enter the roll number :4\n",
      "enter the class :4\n",
      "****************************************************************************\n",
      "Student name : ds\n",
      "Roll number :  4\n",
      "Class : 4\n",
      "****************************************************************************\n",
      "enter the marks of maths43\n",
      "enter the marks of physics54\n",
      "enter the marks of chemistry65\n",
      "enter the marks of Cse67\n",
      "enter the marks of english54\n",
      "****************************************************************************\n",
      "dict_items([('maths', 43), ('physics', 54), ('chemistry', 65), ('Cse', 67), ('english', 54)])\n",
      "Marks of maths is 43\n",
      "Marks of physics is 54\n",
      "Marks of chemistry is 65\n",
      "Marks of Cse is 67\n",
      "Marks of english is 54\n",
      "****************************************************************************\n",
      "the total marks of the student : 283\n",
      "the percentage is  56\n",
      "........................D Gread.....................\n"
     ]
    }
   ],
   "source": [
    "#13.Write a Python Program for Generating a Report Card\n",
    "\n",
    "n=int(input(\"Enter number of students data you want :\"))\n",
    "total=0\n",
    "for i in range(n):\n",
    "    name=input(\"enter the student name : \")\n",
    "    roll=int(input(\"enter the roll number :\"))\n",
    "    Class=input(\"enter the class :\")\n",
    "    print(\"****************************************************************************\")\n",
    "    print(\"Student name :\",name)\n",
    "    print(\"Roll number : \",roll)\n",
    "    print(\"Class :\",Class)\n",
    "    print(\"****************************************************************************\")\n",
    "    List=[\"maths\",\"physics\",\"chemistry\",\"Cse\",\"english\"]\n",
    "    List1=[]\n",
    "    dic={}\n",
    "    for j in List:\n",
    "        ele=int(input(\"enter the marks of \"+str(j)+\"\"))\n",
    "        List1.append(ele)\n",
    "        dic[j]=ele\n",
    "    print(\"****************************************************************************\")\n",
    "    for j,k in dic.items():\n",
    "        print(\"Marks of \"+str(j)+ \" is \"+str(k))\n",
    "    print(\"****************************************************************************\")\n",
    "    print(\"the total marks of the student :\",sum(List1))\n",
    "    per=sum(List1)//len(List)\n",
    "    print(\"the percentage is \",per)\n",
    "    if per>=90:\n",
    "        print(\"...................A Gread.................\")\n",
    "    elif per>=75 and per<90:\n",
    "        print(\".................B Gread...................\")\n",
    "    elif per>=60 and per<75:\n",
    "        print(\"...............C Gread..............\")\n",
    "    elif per>=40 and per<60:\n",
    "        print(\"........................D Gread.....................\")\n",
    "    elif per>=33 and per<40:\n",
    "        print(\"...............E Gread.............\")\n",
    "    elif per<33:\n",
    "        print(\".................FAIL....................\")\n",
    "    \n"
   ]
  },
  {
   "cell_type": "code",
   "execution_count": 3,
   "id": "9ae1060d",
   "metadata": {},
   "outputs": [
    {
     "name": "stdout",
     "output_type": "stream",
     "text": [
      "Enter a year: 3000\n",
      "3000 is not a leap year\n"
     ]
    }
   ],
   "source": [
    "#14.Python program For Checking Leap Year or Not\n",
    "\n",
    "year = int(input(\"Enter a year: \"))\n",
    "\n",
    "# divided by 100 means century year (ending with 00)\n",
    "# century year divided by 400 is leap year\n",
    "if (year % 400 == 0) and (year % 100 == 0):\n",
    "    print(\"{0} is a leap year\".format(year))\n",
    "\n",
    "# not divided by 100 means not a century year\n",
    "# year divided by 4 is a leap year\n",
    "elif (year % 4 ==0) and (year % 100 != 0):\n",
    "    print(\"{0} is a leap year\".format(year))\n",
    "\n",
    "# if not divided by both 400 (century year) and 4 (not century year)\n",
    "# year is not leap year\n",
    "else:\n",
    "    print(\"{0} is not a leap year\".format(year))\n"
   ]
  },
  {
   "cell_type": "markdown",
   "id": "287f1b83",
   "metadata": {},
   "source": [
    "### "
   ]
  },
  {
   "cell_type": "code",
   "execution_count": 14,
   "id": "4b0ac1af",
   "metadata": {},
   "outputs": [
    {
     "name": "stdout",
     "output_type": "stream",
     "text": [
      "Enter your name :.lasdh8odsfoi\n",
      "Enter your age :8675\n",
      ".lasdh8odsfoi You are Eligible for Vote because of your age is 8675 \n"
     ]
    }
   ],
   "source": [
    "#15.Python Program to Check weather a candidate Eligible for Vote or not\n",
    "\n",
    "name=input(\"Enter your name :\")\n",
    "age=int(input(\"Enter your age :\"))\n",
    "\n",
    "if age>=18 :\n",
    "    print(\"{} You are Eligible for Vote because of your age is {} \".format(name,age))\n",
    "else :\n",
    "    print(\"{} you are not Eligible for vote beacuse of your age is {}\".format(name,age))\n"
   ]
  },
  {
   "cell_type": "code",
   "execution_count": 17,
   "id": "671dc7fe",
   "metadata": {},
   "outputs": [
    {
     "name": "stdout",
     "output_type": "stream",
     "text": [
      "Enter any number to check : 49\n",
      "49 is divisible by 7\n"
     ]
    }
   ],
   "source": [
    "#16.Python program to check weather Given Number is Divisible by 7 or Not\n",
    "\n",
    "num=int(input(\"Enter any number to check : \"))\n",
    "\n",
    "if num%7==0 :\n",
    "    print(\"{} is divisible by 7\".format(num))\n",
    "else :\n",
    "    print(\"{} is not divisible by 7\".format(num))\n",
    "    "
   ]
  },
  {
   "cell_type": "code",
   "execution_count": 19,
   "id": "b3cebabd",
   "metadata": {},
   "outputs": [
    {
     "name": "stdout",
     "output_type": "stream",
     "text": [
      "Enter any number to check : 343\n",
      "343 is a odd number \n"
     ]
    }
   ],
   "source": [
    "#17.Python Program to check weather a given number is odd or Even\n",
    "\n",
    "num=int(input(\"Enter any number to check : \"))\n",
    "\n",
    "if num%2==0 :\n",
    "    print(\"{} is a even number\".format(num))\n",
    "else :\n",
    "    print(\"{} is a odd number \".format(num))"
   ]
  },
  {
   "cell_type": "code",
   "execution_count": 27,
   "id": "b4aecd04",
   "metadata": {},
   "outputs": [
    {
     "name": "stdout",
     "output_type": "stream",
     "text": [
      "Enter any number to check : 764365\n",
      "hello\n"
     ]
    }
   ],
   "source": [
    "#18.Write a program to display \"Hello\" if a number entered by user is a multiple of five , otherwise print \"Bye\".\n",
    "\n",
    "num=int(input(\"Enter any number to check : \"))\n",
    "#n1=int(input(\"Enter the any number that multiple you want to check \"))\n",
    "while num>0 :\n",
    "    num=num-5              #n1\n",
    "    \n",
    "if num==0 :\n",
    "    print(\"hello\")\n",
    "else :\n",
    "    print(\"bye\")"
   ]
  },
  {
   "cell_type": "code",
   "execution_count": 40,
   "id": "5ff47962",
   "metadata": {},
   "outputs": [
    {
     "name": "stdout",
     "output_type": "stream",
     "text": [
      "Enter the number :36\n",
      "last digit 6 of the 36 is divisible by 3\n"
     ]
    }
   ],
   "source": [
    "#19.Write a program to check whether the last digit of a number( entered by user ) is divisible by 3 or not.\n",
    "\n",
    "n=int(input(\"Enter the number :\"))\n",
    "num=n\n",
    "num=num%10\n",
    "\n",
    "if(num%3==0):\n",
    "    print(f\"last digit {num} of the {n} is divisible by 3\")\n",
    "else :\n",
    "    print(\"last digit {} of the {} is not divisible by 3\".format(num,n))\n"
   ]
  },
  {
   "cell_type": "code",
   "execution_count": 35,
   "id": "9cbd45ad",
   "metadata": {},
   "outputs": [
    {
     "name": "stdout",
     "output_type": "stream",
     "text": [
      "enter your percentage :34\n",
      "the percentage is  34.0\n",
      ".................D Gread....................\n"
     ]
    }
   ],
   "source": [
    "#20.Write a program to accept percentage from the user and display the grade according to the following criteria:\n",
    "#Marks Grade\n",
    "#> 90 A\n",
    "#> 80 and <= 90 B\n",
    "#>= 60 and <= 80 C\n",
    "#below 60 D\n",
    "\n",
    "per=float(input(\"enter your percentage :\"))\n",
    "print(\"the percentage is \",per)\n",
    "if per>=90:\n",
    "    print(\"...................A Gread.................\")\n",
    "elif per>=80 and per<90:\n",
    "    print(\".................B Gread...................\")\n",
    "elif per>=60 and per<80:\n",
    "    print(\"...............C Gread..............\")\n",
    "elif per<60:\n",
    "    print(\".................D Gread....................\")"
   ]
  },
  {
   "cell_type": "code",
   "execution_count": 36,
   "id": "eb68ac45",
   "metadata": {},
   "outputs": [
    {
     "name": "stdout",
     "output_type": "stream",
     "text": [
      "enter the price of your bike :150000\n",
      "the 15% tax of 150000.0 price is 22500.0\n"
     ]
    }
   ],
   "source": [
    "#21.Write a program to accept the cost price of a bike and display the road tax to be paid according to the following criteria :\n",
    "# Cost price (in Rs) Tax\n",
    "# > 100000 15 %\n",
    "# > 50000 and <= 100000 10%\n",
    "# <= 50000 5%\n",
    "\n",
    "price = float(input(\"enter the price of your bike :\"))\n",
    "if price > 100000 :\n",
    "    tax=price*0.15\n",
    "    print(\"the 15% tax of {} price is {}\".format(price,tax))\n",
    "elif price>50000 and price<=100000:\n",
    "    tax=price*0.1\n",
    "    print(\"the 15% tax of {} price is {}\".format(price,tax))\n",
    "else :\n",
    "    tax=price*0.05\n",
    "    print(\"the 15% tax of {} price is {}\".format(price,tax))"
   ]
  },
  {
   "cell_type": "code",
   "execution_count": 38,
   "id": "193b396e",
   "metadata": {},
   "outputs": [
    {
     "name": "stdout",
     "output_type": "stream",
     "text": [
      "Enter any number to know week name :54\n",
      "wrong !!! please give the right number as per week name\n"
     ]
    }
   ],
   "source": [
    "#22.Write a program to accept a number from 1 to 7 and display the name of the day like 1 for Sunday , 2 for Monday and so on.\n",
    "\n",
    "num=int(input(\"Enter any number to know week name :\"))\n",
    "\n",
    "if num==1:\n",
    "    print(\"monday\")\n",
    "elif num==2:\n",
    "    print(\"tuesday\")\n",
    "elif num==3:\n",
    "    print(\"wednesday\")\n",
    "elif num==4:\n",
    "    print(\"thusday\")\n",
    "elif num==5:\n",
    "    print(\"friday\")\n",
    "elif num==6:\n",
    "    print(\"satureday\")\n",
    "elif num==7:\n",
    "    print(\"sunday\")\n",
    "else :\n",
    "    print(\"wrong !!! please give the right number as per week name\")"
   ]
  },
  {
   "cell_type": "code",
   "execution_count": 39,
   "id": "277c1513",
   "metadata": {},
   "outputs": [
    {
     "name": "stdout",
     "output_type": "stream",
     "text": [
      "Enter any number to know week name :7\n",
      "july\n"
     ]
    }
   ],
   "source": [
    "#23. Write a program to accept a number from 1 to 12 and display name of the month and days in that month \n",
    "# like 1 for January and number of days 31 and so on\n",
    "\n",
    "num=int(input(\"Enter any number to know week name :\"))\n",
    "\n",
    "if num==1:\n",
    "    print(\"january\")\n",
    "elif num==2:\n",
    "    print(\"february\")\n",
    "elif num==3:\n",
    "    print(\"march\")\n",
    "elif num==4:\n",
    "    print(\"april\")\n",
    "elif num==5:\n",
    "    print(\"may\")\n",
    "elif num==6:\n",
    "    print(\"june\")\n",
    "elif num==7:\n",
    "    print(\"july\")\n",
    "elif num==8:\n",
    "    print(\"August\")\n",
    "elif num==9:\n",
    "    print(\"september\")\n",
    "elif num==10:\n",
    "    print(\"october\")\n",
    "elif num==11:\n",
    "    print(\"november\")\n",
    "elif num==12:\n",
    "    print(\"december\")\n",
    "else :\n",
    "    print(\"wrong !!! please give the right number as per months name\")"
   ]
  },
  {
   "cell_type": "code",
   "execution_count": 41,
   "id": "4f1ba427",
   "metadata": {},
   "outputs": [
    {
     "name": "stdout",
     "output_type": "stream",
     "text": [
      "Enter city (delhi,agra,jaipur) to know it's monumentDelhi\n",
      "Red Fort\n"
     ]
    }
   ],
   "source": [
    "#24. Accept any city from the user and display monument of that city.\n",
    "# City Monument\n",
    "# Delhi Red Fort\n",
    "# Agra Taj Mahal\n",
    "# Jaipur Jal Mahal\n",
    "\n",
    "city=input(\"Enter city (delhi,agra,jaipur) to know it's monument\")\n",
    "\n",
    "if city==\"Delhi\" or city==\"delhi\":\n",
    "    print(\"Red Fort\")\n",
    "elif city==\"Agra\" or city==\"agra\":\n",
    "    print(\"Taj Mahal\")\n",
    "elif city==\"Jaipur\" or city==\"jaipur\":\n",
    "    print(\"Jal Mahal\")\n",
    "else :\n",
    "    print(\"Enter the correct city\")"
   ]
  },
  {
   "cell_type": "code",
   "execution_count": 44,
   "id": "2d9caa02",
   "metadata": {},
   "outputs": [
    {
     "name": "stdout",
     "output_type": "stream",
     "text": [
      "Enter your name :mohit\n",
      "Enter your age :25\n",
      "mohit you are not in senior citizen beacuse of your age is 25\n"
     ]
    }
   ],
   "source": [
    "#25. Write a program to check whether a person is senior citizen or not.\n",
    "\n",
    "name=input(\"Enter your name :\")\n",
    "age=int(input(\"Enter your age :\"))\n",
    "\n",
    "if age>=55 :\n",
    "    print(\"{} You are in senior citizen because of your age is {} \".format(name,age))\n",
    "else :\n",
    "    print(\"{} you are not in senior citizen beacuse of your age is {}\".format(name,age))"
   ]
  },
  {
   "cell_type": "code",
   "execution_count": 45,
   "id": "92a246c0",
   "metadata": {},
   "outputs": [
    {
     "name": "stdout",
     "output_type": "stream",
     "text": [
      "Enter the 1st number :54\n",
      "Enter the 2nd number :65\n",
      "54 is the lowest number out of 54 and 65\n"
     ]
    }
   ],
   "source": [
    "#26. Write a program to find the lowest number out of two numbers excepted from user.\n",
    "\n",
    "n1=int(input(\"Enter the 1st number :\"))\n",
    "n2=int(input(\"Enter the 2nd number :\"))\n",
    "\n",
    "if n1>n2 :\n",
    "    print(f\"{n2} is the lowest number out of {n1} and {n2}\")\n",
    "else :\n",
    "    print(f\"{n1} is the lowest number out of {n1} and {n2}\")"
   ]
  },
  {
   "cell_type": "code",
   "execution_count": 46,
   "id": "873e4341",
   "metadata": {},
   "outputs": [
    {
     "name": "stdout",
     "output_type": "stream",
     "text": [
      "Enter the 1st number :43\n",
      "Enter the 2nd number :76\n",
      "76 is the Largest number out of 43 and 76\n"
     ]
    }
   ],
   "source": [
    "#27. Write a program to find the largest number out of two numbers excepted from user.\n",
    "\n",
    "n1=int(input(\"Enter the 1st number :\"))\n",
    "n2=int(input(\"Enter the 2nd number :\"))\n",
    "\n",
    "if n1>n2 :\n",
    "    print(f\"{n1} is the Largest number out of {n1} and {n2}\")\n",
    "else :\n",
    "    print(f\"{n2} is the Largest number out of {n1} and {n2}\")"
   ]
  },
  {
   "cell_type": "code",
   "execution_count": 48,
   "id": "e761cdc8",
   "metadata": {},
   "outputs": [
    {
     "name": "stdout",
     "output_type": "stream",
     "text": [
      "Enter the number :56\n",
      "56 is not divisible by 2 and 3 both.\n"
     ]
    }
   ],
   "source": [
    "#28. Write a program to whether a number (accepted from user) is divisible by 2 and 3 both.\n",
    "\n",
    "\n",
    "n1=int(input(\"Enter the number :\"))\n",
    "\n",
    "if n1%2==0 and n1%3==0 :\n",
    "    print(f\"{n1} is divisible by 2 and 3 both.\")\n",
    "else :\n",
    "    print(f\"{n1} is not divisible by 2 and 3 both.\")"
   ]
  },
  {
   "cell_type": "code",
   "execution_count": 49,
   "id": "a44b9d2c",
   "metadata": {},
   "outputs": [
    {
     "name": "stdout",
     "output_type": "stream",
     "text": [
      "Enter the 1st number :544\n",
      "Enter the 2nd number :65\n",
      "Enter the 3rd number :432\n",
      "544 is the Largest number out of 544,65 and 432\n"
     ]
    }
   ],
   "source": [
    "#29. Write a program to find the largest number out of three numbers excepted from user.\n",
    "\n",
    "n1=int(input(\"Enter the 1st number :\"))\n",
    "n2=int(input(\"Enter the 2nd number :\"))\n",
    "n3=int(input(\"Enter the 3rd number :\"))\n",
    "\n",
    "if n1>n2 and n1>n3:\n",
    "    print(f\"{n1} is the Largest number out of {n1},{n2} and {n3}\")\n",
    "elif n2>n1 and n2>n3 :\n",
    "    print(f\"{n2} is the Largest number out of {n1},{n2} and {n3}\")\n",
    "else :\n",
    "    print(f\"{n3} is the Largest number out of {n1} ,{n2} and {n3}\")\n"
   ]
  },
  {
   "cell_type": "code",
   "execution_count": 51,
   "id": "561c2a76",
   "metadata": {},
   "outputs": [
    {
     "name": "stdout",
     "output_type": "stream",
     "text": [
      "enter any character :I\n",
      "I is the vowel\n"
     ]
    }
   ],
   "source": [
    "#30. Write a program to check a character is vowel or not.\n",
    "\n",
    "char=input(\"enter any character :\")\n",
    "\n",
    "if char==\"a\" or char==\"A\" or char==\"i\" or char==\"I\" or char==\"o\" or char==\"O\" or char==\"e\" or char==\"E\" or char==\"u\" or char==\"U\":\n",
    "    print(f\"{char} is the vowel\")\n",
    "else :\n",
    "    print(f\"{char} is not a vowel\")"
   ]
  },
  {
   "cell_type": "code",
   "execution_count": 56,
   "id": "3a206255",
   "metadata": {},
   "outputs": [
    {
     "name": "stdout",
     "output_type": "stream",
     "text": [
      "Enter the number :5\n",
      "1\n",
      "2\n",
      "6\n",
      "24\n",
      "120\n",
      "The factorial of the 5 is 120\n"
     ]
    }
   ],
   "source": [
    "#31. Python Program for factorial of a number\n",
    "\n",
    "num=int(input(\"Enter the number :\"))\n",
    "x=1\n",
    "for i in range(1,num+1) :\n",
    "    x=x*i\n",
    "    print(x)\n",
    "print(f\"The factorial of the {num} is {x}\")\n"
   ]
  },
  {
   "cell_type": "code",
   "execution_count": 25,
   "id": "3c1f9fe2",
   "metadata": {},
   "outputs": [
    {
     "name": "stdout",
     "output_type": "stream",
     "text": [
      "Enter the number to check Armstrong number :153\n",
      "it's a Armstrong number\n"
     ]
    }
   ],
   "source": [
    "#32. Python Program to check Armstrong Number\n",
    "\n",
    "num=input(\"Enter the number to check Armstrong number :\")\n",
    "n=int(num)\n",
    "Sum=0\n",
    "for i in range(len(num)):\n",
    "    r=n%10\n",
    "    x=n//10\n",
    "    n=x\n",
    "    y=r**3\n",
    "    Sum=Sum+y\n",
    "  \n",
    "if Sum==int(num):\n",
    "    print(\"it's a Armstrong number\")\n",
    "else:\n",
    "    print(\"it's not a Armstrong number\")"
   ]
  },
  {
   "cell_type": "code",
   "execution_count": 29,
   "id": "3b1ac995",
   "metadata": {},
   "outputs": [
    {
     "name": "stdout",
     "output_type": "stream",
     "text": [
      "Enter a number371\n",
      "Number is armstrong\n"
     ]
    }
   ],
   "source": [
    "#33.Armstrong Number\n",
    "number=int(input(\"Enter a number\"))#153\n",
    "m=number\n",
    "sum=0\n",
    "while number!=0:\n",
    "    rem=number%10 #--> 3 ---> 5 -->1\n",
    "    sum=sum+(rem*rem*rem)#--> sum=0+27 --27 ---> 27+125=152 --> 152+1*1*1=153\n",
    "    number=number//10 #-->15 -->1 -->0\n",
    "if(sum==m):\n",
    "    print(\"Number is armstrong\")\n",
    "else:\n",
    "    print(\"Number is not armstrong\")"
   ]
  },
  {
   "cell_type": "raw",
   "id": "ba944c8f",
   "metadata": {},
   "source": []
  },
  {
   "cell_type": "code",
   "execution_count": 30,
   "id": "18ec0541",
   "metadata": {},
   "outputs": [
    {
     "ename": "IndentationError",
     "evalue": "expected an indented block (671900055.py, line 7)",
     "output_type": "error",
     "traceback": [
      "\u001b[1;36m  Input \u001b[1;32mIn [30]\u001b[1;36m\u001b[0m\n\u001b[1;33m    \u001b[0m\n\u001b[1;37m    ^\u001b[0m\n\u001b[1;31mIndentationError\u001b[0m\u001b[1;31m:\u001b[0m expected an indented block\n"
     ]
    }
   ],
   "source": [
    "\n",
    "    "
   ]
  },
  {
   "cell_type": "code",
   "execution_count": 50,
   "id": "6b080495",
   "metadata": {},
   "outputs": [
    {
     "name": "stdout",
     "output_type": "stream",
     "text": [
      "Enter any number to check prime or not :37\n",
      "Prime number\n"
     ]
    }
   ],
   "source": [
    "#34. Python program to check whether a number is Prime or not\n",
    "n=int(input(\"Enter any number to check prime or not :\"))\n",
    "if n==0 or n==1:\n",
    "    print(\"0 or 1 are not prime numbers\")\n",
    "else:\n",
    "    for i in range(2,n):\n",
    "        if n%i==0:\n",
    "            print(\"it is not a prime number\")\n",
    "            break\n",
    "    else:\n",
    "        print(\"Prime number\")\n",
    "            "
   ]
  },
  {
   "cell_type": "markdown",
   "id": "07937b1f",
   "metadata": {},
   "source": [
    "###### "
   ]
  },
  {
   "cell_type": "code",
   "execution_count": 56,
   "id": "44659129",
   "metadata": {},
   "outputs": [
    {
     "name": "stdout",
     "output_type": "stream",
     "text": [
      "Enter starting number : 4\n",
      "Enter ending number :76\n",
      "5 7 11 13 17 19 23 29 31 37 41 43 47 53 59 61 67 71 73 "
     ]
    }
   ],
   "source": [
    "#35.Python program to print all Prime numbers in an Interval\n",
    "\n",
    "n1=int(input(\"Enter starting number : \"))\n",
    "n2=int(input(\"Enter ending number :\"))\n",
    "\n",
    "for i in range(n1,n2):\n",
    "    for j in range(2,i):\n",
    "        if i%j==0:\n",
    "            break\n",
    "    else:\n",
    "        print(i,end=\" \")\n",
    "        \n"
   ]
  },
  {
   "cell_type": "code",
   "execution_count": 6,
   "id": "fa56d654",
   "metadata": {},
   "outputs": [
    {
     "name": "stdout",
     "output_type": "stream",
     "text": [
      "Enter the nth number of fibonacci:10\n",
      "fibonacci number is : 34\n"
     ]
    }
   ],
   "source": [
    "#36.Python Program for n-th Fibonacci number\n",
    "\n",
    "n=int(input(\"Enter the nth number of fibonacci:\"))\n",
    "c=0\n",
    "if n<=0 :\n",
    "    print(\"Incorrect input\")\n",
    "elif n==1 :\n",
    "    print(\"fibonacci number is : 0\")\n",
    "elif n==2 :\n",
    "    print(\"fibonacci number is : 1\")\n",
    "else :\n",
    "    a=0\n",
    "    b=1\n",
    "    for i in range(3,n+1):\n",
    "        c=a+b\n",
    "        a=b\n",
    "        b=c\n",
    "    print(\"fibonacci number is :\",c)"
   ]
  },
  {
   "cell_type": "code",
   "execution_count": 20,
   "id": "98a42507",
   "metadata": {},
   "outputs": [
    {
     "name": "stdout",
     "output_type": "stream",
     "text": [
      "Enter the number you want to check\n",
      "55\n",
      "55 is the fibonacci number\n"
     ]
    }
   ],
   "source": [
    "#37.Python Program for How to check if a given number is Fibonacci number?\n",
    "\n",
    "from math import *\n",
    "num=int(input(\"Enter the number you want to check\\n\"))\n",
    "if num<=0 :\n",
    "    print(\"Incorrect input\")\n",
    "else :\n",
    "    n=((5*(num**2))+4)\n",
    "    n1=((5*(num**2))-4)\n",
    "    s=int(sqrt(n))\n",
    "    s1=int(sqrt(n1))\n",
    "    if s*s==n or s1*s1==n1 :\n",
    "        print(f\"{num} is the fibonacci number\")\n",
    "    else :\n",
    "        print(f\"{num} is not a fibonacci number\")"
   ]
  },
  {
   "cell_type": "code",
   "execution_count": null,
   "id": "baedbe61",
   "metadata": {},
   "outputs": [],
   "source": [
    "#38.Python Program for n\\’th multiple of a number in Fibonacci Series\n"
   ]
  },
  {
   "cell_type": "code",
   "execution_count": 24,
   "id": "3fb6cbaf",
   "metadata": {},
   "outputs": [
    {
     "name": "stdout",
     "output_type": "stream",
     "text": [
      "Enter the last number of the squence :4\n",
      "The sum of square of 1st 4 natural no is 30\n"
     ]
    }
   ],
   "source": [
    "#39.Python Program for Sum of squares of first n natural numbers\n",
    "\n",
    "n=int(input(\"Enter the last number of the squence :\"))\n",
    "Sum=0\n",
    "for i in range(1,n+1):\n",
    "    Sum=(Sum+(i*i))\n",
    "print(\"The sum of square of 1st {} natural no is {}\".format(n,Sum))"
   ]
  },
  {
   "cell_type": "code",
   "execution_count": 25,
   "id": "b19aea63",
   "metadata": {},
   "outputs": [
    {
     "name": "stdout",
     "output_type": "stream",
     "text": [
      "Enter the last number of the squence :5\n",
      "The sum of square of 1st 5 natural no is 225\n"
     ]
    }
   ],
   "source": [
    "#40.Python Program for cube sum of first n natural numbers.\n",
    "\n",
    "n=int(input(\"Enter the last number of the squence :\"))\n",
    "Sum=0\n",
    "for i in range(1,n+1):\n",
    "    Sum=(Sum+(i*i*i))\n",
    "print(\"The sum of square of 1st {} natural no is {}\".format(n,Sum))"
   ]
  },
  {
   "cell_type": "code",
   "execution_count": 28,
   "id": "e8c4a6d0",
   "metadata": {},
   "outputs": [
    {
     "name": "stdout",
     "output_type": "stream",
     "text": [
      "0\n",
      "1\n",
      "2\n",
      "4\n",
      "5\n"
     ]
    }
   ],
   "source": [
    "#41.Write a Python program that prints all the numbers from 0 to 6 except 3 and 6\n",
    "n=6 \n",
    "for i in range(n):\n",
    "    if i==3 or i==6 :\n",
    "        continue\n",
    "    print(i)"
   ]
  },
  {
   "cell_type": "code",
   "execution_count": 31,
   "id": "2f83bf0f",
   "metadata": {},
   "outputs": [
    {
     "name": "stdout",
     "output_type": "stream",
     "text": [
      "1\n",
      "2\n",
      "Fizz\n",
      "4\n",
      "Buzz\n",
      "Fizz\n",
      "7\n",
      "8\n",
      "Fizz\n",
      "Buzz\n",
      "11\n",
      "Fizz\n",
      "13\n",
      "14\n",
      "Fizz\n",
      "16\n",
      "17\n",
      "Fizz\n",
      "19\n",
      "Buzz\n",
      "Fizz\n",
      "22\n",
      "23\n",
      "Fizz\n",
      "Buzz\n",
      "26\n",
      "Fizz\n",
      "28\n",
      "29\n",
      "Fizz\n",
      "31\n",
      "32\n",
      "Fizz\n",
      "34\n",
      "Buzz\n",
      "Fizz\n",
      "37\n",
      "38\n",
      "Fizz\n",
      "Buzz\n",
      "41\n",
      "Fizz\n",
      "43\n",
      "44\n",
      "Fizz\n",
      "46\n",
      "47\n",
      "Fizz\n",
      "49\n",
      "Buzz\n"
     ]
    }
   ],
   "source": [
    "#42.Write a Python program which iterates the integers from 1 to 50.\n",
    "# For multiples of three print \"Fizz\" instead of the number and for the multiples of five print \"Buzz\".\n",
    "# For numbers which are multiples of both three and five print \"FizzBuzz\".\n",
    "\n",
    "for i in range(1,51):\n",
    "    \n",
    "    if i%3==0:\n",
    "        print(\"Fizz\")\n",
    "    elif i%5==0:\n",
    "        print(\"Buzz\")\n",
    "    elif i%3==0 and i%5==0 :\n",
    "        print(\"FizzBuzz\")\n",
    "    else :\n",
    "        print(i)"
   ]
  },
  {
   "cell_type": "code",
   "execution_count": 36,
   "id": "14c07bc5",
   "metadata": {},
   "outputs": [
    {
     "name": "stdout",
     "output_type": "stream",
     "text": [
      "enter any number to see it's reverse :12345\n",
      "54321\n"
     ]
    }
   ],
   "source": [
    "#43. Write a Python program to reverse a number\n",
    "\n",
    "n=input(\"enter any number to see it's reverse :\")\n",
    "for i in range(len(n)):\n",
    "    l=n[::-1]\n",
    "print(l)"
   ]
  },
  {
   "cell_type": "code",
   "execution_count": 37,
   "id": "f5db1c7d",
   "metadata": {},
   "outputs": [
    {
     "name": "stdout",
     "output_type": "stream",
     "text": [
      "enter the last no to see in descending order :4\n",
      "4\n",
      "3\n",
      "2\n",
      "1\n"
     ]
    }
   ],
   "source": [
    "#44.Write a program to print n natural number in descending order using a while loop.\n",
    "n=int(input(\"enter the last no to see in descending order :\"))\n",
    "\n",
    "while n>0 :\n",
    "    print(n)\n",
    "    n-=1"
   ]
  },
  {
   "cell_type": "code",
   "execution_count": 38,
   "id": "f20bac05",
   "metadata": {},
   "outputs": [
    {
     "name": "stdout",
     "output_type": "stream",
     "text": [
      "7\n",
      "14\n",
      "21\n",
      "28\n",
      "35\n",
      "42\n",
      "49\n"
     ]
    }
   ],
   "source": [
    "#45.Write a program to display the first 7 multiples of 7.\n",
    "n=1\n",
    "i=1\n",
    "while n<=7:\n",
    "    if i%7==0:\n",
    "        print(i)\n",
    "        n+=1\n",
    "    i+=1"
   ]
  },
  {
   "cell_type": "code",
   "execution_count": 9,
   "id": "c10615fb",
   "metadata": {},
   "outputs": [
    {
     "name": "stdout",
     "output_type": "stream",
     "text": [
      "enter the length of the list :4\n",
      "number in list :1\n",
      "number in list :2\n",
      "number in list :3\n",
      "number in list :4\n",
      "[1, 4, 9, 16]\n"
     ]
    }
   ],
   "source": [
    "#46.Write a program that appends the square of each number to a new list.\n",
    "n=int(input(\"enter the length of the list :\"))\n",
    "l=[]\n",
    "for i in range(n):\n",
    "    l.append(int(input(\"number in list :\")))\n",
    "    l[i]*=l[i]\n",
    "\n",
    "print(l)    \n",
    "    "
   ]
  },
  {
   "cell_type": "markdown",
   "id": "af30bb97",
   "metadata": {},
   "source": [
    "## "
   ]
  },
  {
   "cell_type": "code",
   "execution_count": 10,
   "id": "7da3dcc2",
   "metadata": {},
   "outputs": [
    {
     "name": "stdout",
     "output_type": "stream",
     "text": [
      "enter the number which you need multiplication table : 2\n",
      "2 * 1 = 2\n",
      "2 * 2 = 4\n",
      "2 * 3 = 6\n",
      "2 * 4 = 8\n",
      "2 * 5 = 10\n",
      "2 * 6 = 12\n",
      "2 * 7 = 14\n",
      "2 * 8 = 16\n",
      "2 * 9 = 18\n",
      "2 * 10 = 20\n"
     ]
    }
   ],
   "source": [
    "#47.Write a program to print multiplication table of a given number\n",
    "\n",
    "n=int(input(\"enter the number which you need multiplication table : \"))\n",
    "for i in range(1,11):\n",
    "    print(f\"{n} * {i} = {n*i}\")"
   ]
  },
  {
   "cell_type": "code",
   "execution_count": 14,
   "id": "b354060c",
   "metadata": {},
   "outputs": [
    {
     "name": "stdout",
     "output_type": "stream",
     "text": [
      "Enter any number :65437\n",
      "5\n"
     ]
    }
   ],
   "source": [
    "#48.Count the total number of digits in a number\n",
    "\n",
    "n=int(input(\"Enter any number :\"))\n",
    "i=0\n",
    "while n!=0 :\n",
    "    n=n//10\n",
    "    i+=1\n",
    "    \n",
    "print(i)\n",
    "    "
   ]
  },
  {
   "cell_type": "code",
   "execution_count": 23,
   "id": "103343b1",
   "metadata": {},
   "outputs": [
    {
     "name": "stdout",
     "output_type": "stream",
     "text": [
      "Enter any number :123\n",
      "6\n"
     ]
    }
   ],
   "source": [
    "#49.Write a program to display product of the digits of a number accepted from the user.\n",
    "\n",
    "\n",
    "n=int(input(\"Enter any number :\"))\n",
    "j=1\n",
    "while n!=0 :\n",
    "    pro=n%10\n",
    "    n=n//10\n",
    "    j=j*pro\n",
    "    \n",
    "print(j)"
   ]
  },
  {
   "cell_type": "code",
   "execution_count": 28,
   "id": "6e3f5c28",
   "metadata": {},
   "outputs": [
    {
     "name": "stdout",
     "output_type": "stream",
     "text": [
      "Enter any number :456\n",
      "15\n"
     ]
    }
   ],
   "source": [
    "#50.Write a program to find the sum of the digits of a number accepted from user\n",
    "\n",
    "n=int(input(\"Enter any number :\"))\n",
    "j=0\n",
    "while n!=0 :\n",
    "    pro=n%10\n",
    "    n=n//10\n",
    "    j=j+pro\n",
    "    \n",
    "print(j)"
   ]
  },
  {
   "cell_type": "code",
   "execution_count": 31,
   "id": "ffe50941",
   "metadata": {},
   "outputs": [
    {
     "name": "stdout",
     "output_type": "stream",
     "text": [
      "enter 1st number :12\n",
      "enter last number :37\n",
      "the sum even number between 12 and 37 is 312\n",
      "the sum odd number between 12 and 37 is 325\n"
     ]
    }
   ],
   "source": [
    "#51.Write a program to display sum of odd numbers and even numbers that fall between 12 and 37\n",
    "\n",
    "n1=int(input(\"enter 1st number :\"))\n",
    "l=int(input(\"enter last number :\"))\n",
    "sum1=0\n",
    "sum2=0\n",
    "for i in range(n1,l+1):\n",
    "    if i%2==0 :\n",
    "        sum1+=i\n",
    "    else :\n",
    "        sum2+=i\n",
    "\n",
    "print(\"the sum even number between {} and {} is {}\".format(n1,l,sum1))\n",
    "print(\"the sum odd number between {} and {} is {}\".format(n1,l,sum2))\n",
    "        "
   ]
  },
  {
   "cell_type": "code",
   "execution_count": 35,
   "id": "0a8e526f",
   "metadata": {},
   "outputs": [
    {
     "name": "stdout",
     "output_type": "stream",
     "text": [
      "enter 1st number :100\n",
      "enter last number :500\n",
      "the number div by 11 and not by 2 between 100 and 500 is\n",
      "121 143 165 187 209 231 253 275 297 319 341 363 385 407 429 451 473 495 "
     ]
    }
   ],
   "source": [
    "#52.Write a program to display all the numbers which are divisible by 11 but not by 2 between 100 and 500.\n",
    "\n",
    "n1=int(input(\"enter 1st number :\"))\n",
    "l=int(input(\"enter last number :\"))\n",
    "print(\"the number div by 11 and not by 2 between {} and {} is\".format(n1,l))\n",
    "for i in range(n1,l+1):\n",
    "    if i%2!=0 and i%11==0 :\n",
    "        print(i,end=\" \")\n",
    "    else :\n",
    "        continue\n",
    "\n"
   ]
  },
  {
   "cell_type": "markdown",
   "id": "c61e36cd",
   "metadata": {},
   "source": [
    "### "
   ]
  },
  {
   "cell_type": "code",
   "execution_count": 39,
   "id": "ea1720ca",
   "metadata": {},
   "outputs": [
    {
     "name": "stdout",
     "output_type": "stream",
     "text": [
      "enter 1st number :1\n",
      "enter last number :20\n",
      "the number between 1 and 20 except mult of 2 & 3 is\n",
      "1 5 7 11 13 17 19 "
     ]
    }
   ],
   "source": [
    "#53.Write a program to print numbers from 1 to 20 except multiple of 2 & 3.\n",
    "\n",
    "n1=int(input(\"enter 1st number :\"))\n",
    "l=int(input(\"enter last number :\"))\n",
    "print(\"the number between {} and {} except mult of 2 & 3 is\".format(n1,l))\n",
    "for i in range(n1,l+1):\n",
    "    if i%2==0 or i%3==0 :\n",
    "         continue\n",
    "    else :\n",
    "        print(i,end=\" \")\n",
    "       "
   ]
  },
  {
   "cell_type": "code",
   "execution_count": 42,
   "id": "27d2a43e",
   "metadata": {},
   "outputs": [
    {
     "name": "stdout",
     "output_type": "stream",
     "text": [
      "Enter any number: 28\n",
      "The number is a Perfect number!\n"
     ]
    }
   ],
   "source": [
    "#54.Write a program to accept a number and check whether it is a perfect number or not.\n",
    "\n",
    "n = int(input(\"Enter any number: \"))\n",
    "sum1 = 0\n",
    "for i in range(1, n):\n",
    "    if(n % i == 0):\n",
    "        sum1 = sum1 + i\n",
    "if (sum1 == n):\n",
    "    print(\"The number is a Perfect number!\")\n",
    "else:\n",
    "    print(\"The number is not a Perfect number!\")"
   ]
  },
  {
   "cell_type": "code",
   "execution_count": 54,
   "id": "5364f7c4",
   "metadata": {},
   "outputs": [
    {
     "name": "stdout",
     "output_type": "stream",
     "text": [
      "Enter the number to check strong number :145\n",
      "it's a strong number\n"
     ]
    }
   ],
   "source": [
    "#55.Write a program to accept a number and check whether it is a strong number or not.\n",
    "\n",
    "num=input(\"Enter the number to check strong number :\")\n",
    "n=int(num)\n",
    "Sum=0\n",
    "fact=1\n",
    "for i in range(len(num)):\n",
    "    r=n%10\n",
    "    x=n//10\n",
    "    n=x\n",
    "    for j in range(1,r+1):\n",
    "        fact=fact*j\n",
    "    Sum=Sum+fact\n",
    "    fact=1\n",
    "    \n",
    "  \n",
    "if Sum==int(num):\n",
    "    print(\"it's a strong number\")\n",
    "else:\n",
    "    print(\"it's not a strong number\")"
   ]
  },
  {
   "cell_type": "code",
   "execution_count": 6,
   "id": "f2baf7a0",
   "metadata": {},
   "outputs": [
    {
     "name": "stdout",
     "output_type": "stream",
     "text": [
      "enter 1st number :1\n",
      "enter last number :10\n",
      "the prime numbers are : \n",
      "2\n",
      "3\n",
      "5\n",
      "7\n"
     ]
    }
   ],
   "source": [
    "#56.Write a Python Program that will print prime numbers within a Given range\n",
    "\n",
    "n1=int(input(\"enter 1st number :\"))\n",
    "l=int(input(\"enter last number :\"))\n",
    "print(\"the prime numbers are : \")\n",
    "for i in range(n1,l):\n",
    "    if i>1:\n",
    "        for j in range(2,i) :\n",
    "            if i%j==0:\n",
    "                break\n",
    "        else :\n",
    "            print(i)"
   ]
  },
  {
   "cell_type": "code",
   "execution_count": null,
   "id": "95deb2fe",
   "metadata": {},
   "outputs": [],
   "source": [
    "\n"
   ]
  },
  {
   "cell_type": "code",
   "execution_count": null,
   "id": "d442cfff",
   "metadata": {},
   "outputs": [],
   "source": []
  }
 ],
 "metadata": {
  "kernelspec": {
   "display_name": "Python 3 (ipykernel)",
   "language": "python",
   "name": "python3"
  },
  "language_info": {
   "codemirror_mode": {
    "name": "ipython",
    "version": 3
   },
   "file_extension": ".py",
   "mimetype": "text/x-python",
   "name": "python",
   "nbconvert_exporter": "python",
   "pygments_lexer": "ipython3",
   "version": "3.9.12"
  }
 },
 "nbformat": 4,
 "nbformat_minor": 5
}
